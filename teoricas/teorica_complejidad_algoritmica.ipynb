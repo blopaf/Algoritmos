{
 "cells": [
  {
   "cell_type": "code",
   "execution_count": 8,
   "metadata": {},
   "outputs": [],
   "source": [
    "import numpy as np"
   ]
  },
  {
   "cell_type": "code",
   "execution_count": 312,
   "metadata": {},
   "outputs": [],
   "source": [
    "m = np.array([1, 2, 3])\n",
    "v = np.array([6, 10, 12])\n",
    "C = 5"
   ]
  },
  {
   "cell_type": "code",
   "execution_count": 316,
   "metadata": {},
   "outputs": [],
   "source": [
    "m = np.array([1, 2, 5, 6, 7])\n",
    "v = np.array([1, 6, 18, 22, 28])\n",
    "C = 11"
   ]
  },
  {
   "cell_type": "code",
   "execution_count": 321,
   "metadata": {},
   "outputs": [],
   "source": [
    "def mochila_ordena_por_masa(m, v, C):\n",
    "    indices = np.argsort(m)\n",
    "    valor = 0\n",
    "    for i in indices:\n",
    "        C -= m[i]\n",
    "        if C < 0:\n",
    "            C += m[i]\n",
    "            continue\n",
    "        else:\n",
    "            print(v[i])\n",
    "            valor += v[i]\n",
    "    return valor"
   ]
  },
  {
   "cell_type": "code",
   "execution_count": 322,
   "metadata": {},
   "outputs": [],
   "source": [
    "def mochila_ordena_por_valor(m, v, C):\n",
    "    indices = np.argsort(-v)\n",
    "    valor = 0\n",
    "    for i in indices:\n",
    "        C -= m[i]\n",
    "        if C < 0:\n",
    "            C += m[i]\n",
    "            continue\n",
    "        else:\n",
    "            print(v[i])\n",
    "            valor += v[i]\n",
    "    return valor"
   ]
  },
  {
   "cell_type": "code",
   "execution_count": 291,
   "metadata": {},
   "outputs": [],
   "source": [
    "def mochila_ordena_por_masa_valor(m, v, C):\n",
    "    indices = np.argsort(m/v)\n",
    "    valor = 0\n",
    "    for i in indices:\n",
    "        C -= m[i]\n",
    "        if C < 0:\n",
    "            C += m[i]\n",
    "            continue\n",
    "        else:\n",
    "            print(v[i])\n",
    "            valor += v[i]\n",
    "    return valor"
   ]
  },
  {
   "cell_type": "code",
   "execution_count": 326,
   "metadata": {},
   "outputs": [],
   "source": [
    "def mochila_algoritmo(m, v, C, valor, j, listado):\n",
    "    \n",
    "    for i in range(j, len(m)):\n",
    "        if C >= m[i]:\n",
    "            C -= m[i]\n",
    "            valor += v[i]\n",
    "            j += 1\n",
    "            mochila_algoritmo(m, v, C, valor, j, listado)\n",
    "            listado.append(valor)\n",
    "            C += m[i]\n",
    "            valor -= v[i]\n",
    "    return False\n",
    "\n",
    "def mochila_algoritmo(m, v, C):\n",
    "    valor = 0\n",
    "    j = 0\n",
    "    listado = []\n",
    "    mochila_algo(m, v, C, valor, j, listado)\n",
    "    return max(listado)"
   ]
  },
  {
   "cell_type": "code",
   "execution_count": 327,
   "metadata": {},
   "outputs": [
    {
     "name": "stdout",
     "output_type": "stream",
     "text": [
      "1\n",
      "6\n",
      "18\n"
     ]
    },
    {
     "data": {
      "text/plain": [
       "25"
      ]
     },
     "execution_count": 327,
     "metadata": {},
     "output_type": "execute_result"
    }
   ],
   "source": [
    "mochila_ordena_por_masa(m, v, C)"
   ]
  },
  {
   "cell_type": "code",
   "execution_count": 328,
   "metadata": {},
   "outputs": [
    {
     "name": "stdout",
     "output_type": "stream",
     "text": [
      "28\n",
      "6\n",
      "1\n"
     ]
    },
    {
     "data": {
      "text/plain": [
       "35"
      ]
     },
     "execution_count": 328,
     "metadata": {},
     "output_type": "execute_result"
    }
   ],
   "source": [
    "mochila_ordena_por_valor(m, v, C)"
   ]
  },
  {
   "cell_type": "code",
   "execution_count": 329,
   "metadata": {},
   "outputs": [
    {
     "name": "stdout",
     "output_type": "stream",
     "text": [
      "28\n",
      "6\n",
      "1\n"
     ]
    },
    {
     "data": {
      "text/plain": [
       "35"
      ]
     },
     "execution_count": 329,
     "metadata": {},
     "output_type": "execute_result"
    }
   ],
   "source": [
    "mochila_ordena_por_masa_valor(m, v, C)"
   ]
  },
  {
   "cell_type": "code",
   "execution_count": 330,
   "metadata": {},
   "outputs": [
    {
     "data": {
      "text/plain": [
       "40"
      ]
     },
     "execution_count": 330,
     "metadata": {},
     "output_type": "execute_result"
    }
   ],
   "source": [
    "mochila_wrapper(m, v, C)"
   ]
  }
 ],
 "metadata": {
  "kernelspec": {
   "display_name": "Python 3",
   "language": "python",
   "name": "python3"
  },
  "language_info": {
   "codemirror_mode": {
    "name": "ipython",
    "version": 3
   },
   "file_extension": ".py",
   "mimetype": "text/x-python",
   "name": "python",
   "nbconvert_exporter": "python",
   "pygments_lexer": "ipython3",
   "version": "3.8.3"
  }
 },
 "nbformat": 4,
 "nbformat_minor": 4
}
