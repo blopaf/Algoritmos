{
 "cells": [
  {
   "cell_type": "code",
   "execution_count": 1,
   "metadata": {},
   "outputs": [],
   "source": [
    "import numpy as np\n",
    "import sys\n",
    "import math\n",
    "import itertools"
   ]
  },
  {
   "cell_type": "markdown",
   "metadata": {},
   "source": [
    "# Programación dinámica"
   ]
  },
  {
   "cell_type": "markdown",
   "metadata": {},
   "source": [
    "## 3.1 Introducción"
   ]
  },
  {
   "cell_type": "markdown",
   "metadata": {},
   "source": [
    "La Programación Dinámica (PD), al igual que divide y vencerás (D&C, por sus siglas en inglés), resuelve problemas recursivamente, dividiéndolos en subproblemas y combinando sus soluciones.\n",
    "\n",
    "Ahora bien, la naturaleza de los subproblemas que estos 2 métodos resuelven, son fundamentalmente distintas y, por lo tanto, la forma de resolverlos, también.\n",
    "Como ya se ha dicho, los subproblemas de D&C son **disjuntos**. Por ejemplo, en _merge sort_ se divide un problema correspondiente a una lista de tamaño `n`, en 2 subproblemas de tamaño `n/2` que pueden ser resueltos independientemente y que serán utilizados para formar la solución al problema original.\n",
    "\n",
    "Esta aproximación no daría la respuesta correcta a un problema que se resuelve por PD, como el de hallar el camino más rápido entre 2 puntos. Un clásico problema de optimización que usaremos de ejemplo y en el que nos abstraeremos de valores numéricos."
   ]
  },
  {
   "cell_type": "markdown",
   "metadata": {},
   "source": [
    "<img src=\"grilla.png\" alt=\"mm\" style=\"width: 1600px;\"/>"
   ]
  },
  {
   "cell_type": "markdown",
   "metadata": {},
   "source": [
    "Si se dividiera el problema original (**A4-D1**) en, por ejemplo, 2 subproblemas como pueden ser: **A4-C2** y **C2-D1**, la combinación de las soluciones óptimas a estos subproblemas, no será necesariamente la solución óptima al problema original, ya que existe la posibilidad que para ir de A4 a D1, no tenga q pasar por la celda C2. \n",
    "\n",
    "Será entonces que subidividimos mal al problema? Vemos que la solución pasa por C1, entonces quizás había que dividir **A4-D1** en **A4-C1** y **C1-D1**, pero, cómo podríamos haber sabido que el camino óptimo correspondía a la conjunción de esos 2 caminos? Tampoco podíamos descartar que pase por la celda **D2**, y por lo tanto subidividir el problema **A4-D1** en **A4-D2** y **D2-D1**."
   ]
  },
  {
   "cell_type": "markdown",
   "metadata": {},
   "source": [
    "En realidad, las 3 subidivisiones son necesarias. Para hallar el camino más rápido (camino óptimo), **A4-D1** es necesario hallar los caminos óptimos **A4-C1**, **A4-C2** y **A4-D2** (subproblemas **C1**, **C2**, **D2**), y luego ver cual de esos caminos es el más rápido, el de menor costo, es decir, el óptimo.\n",
    "Luego, al buscar el camino óptimo entre estas 3 posibilidades haremos lo mismo, recursivamente, hasta el caso base, al igual que en D&C. Verdad?"
   ]
  },
  {
   "cell_type": "markdown",
   "metadata": {},
   "source": [
    "<img src=\"1_grilla.png\" alt=\"mm\" style=\"width: 1600px;\"/>"
   ]
  },
  {
   "cell_type": "markdown",
   "metadata": {},
   "source": [
    "Ahora vemos que no sólo tenemos que obtener 3 subproblemas para luego resolver el problema original, sino que estos subproblemas no son independientes. Para resolver **C1** y **D2**, debemos resolver **C2**. Y también hay 1 subproblema de **C2** q será necesario p/ resolver **C1** y otro para **D2**. Los subproblemas están superpuestos. \n",
    "\n",
    "Si resolvieramos los subproblemas así como se nos presentan, estaríamos repitiendo cálculo. De nuevo, esto no ocurre en un algoritmo de D&C como _merge sort_, donde el ordenamiento de una porción de una lista, no contiene información alguna, ni depende, del ordenamiento de otra porción de la lista."
   ]
  },
  {
   "cell_type": "markdown",
   "metadata": {},
   "source": [
    "<img src=\"1_tree.png\" alt=\"mm\" style=\"width: 1200px;\"/>"
   ]
  },
  {
   "cell_type": "markdown",
   "metadata": {},
   "source": [
    "Este árbol continua hasta llegar al caso base **A4**, que representa el camino óptimo para llegar a **A4** desde **A4**, lo cual es una trivialidad, pero ésto no nos sorprende ya que así son los casos base."
   ]
  },
  {
   "cell_type": "markdown",
   "metadata": {},
   "source": [
    "#### Subproblemas de borde"
   ]
  },
  {
   "cell_type": "markdown",
   "metadata": {},
   "source": [
    "Cabe también aclarar que no todo subproblema depende de la resolución de 3 subproblemas. Para llegar a las celdas de los bordes (columna **A**, fila **4**), solo hay un camino posible. Estos subproblemas no representan casos base en nuestra función recursiva, ya que su solución depende de un subproblema anterior (y que también es un subproblema de borde), pero por ser esta dependencia directa y única, la solución a estos subproblemas de borde es directa. Esta aclaración es importante ya que es común encontrar subproblemas de borde en algoritmos de PD."
   ]
  },
  {
   "cell_type": "markdown",
   "metadata": {},
   "source": [
    "-------------"
   ]
  },
  {
   "cell_type": "markdown",
   "metadata": {},
   "source": [
    "## 3.2 Características de los problemas que se pueden resolver por PD"
   ]
  },
  {
   "cell_type": "markdown",
   "metadata": {},
   "source": [
    "PD aplica en problemas de cálculo, decisión y optimización. En problemas de cálculo obtiene un valor, en problemas de decisión obtiene la decisión correcta y una solución correcta, y en problemas de optimización obtiene el costo óptimo (o _score_ óptimo) y una solución óptima. Por ser esta última aplicación la más común de ahora en más hablaremos de costo (_score_) óptimo y solución óptima."
   ]
  },
  {
   "cell_type": "markdown",
   "metadata": {},
   "source": [
    "### Subestructura óptima"
   ]
  },
  {
   "cell_type": "markdown",
   "metadata": {},
   "source": [
    "Un problema tiene subestructura óptima si la solución óptima a sus subproblemas puede ser utilizada para obtener la solución óptima al problema original.\n",
    "En el ejemplo anterior, cada subproblema dependía de 3 subproblemas anteriores (o posteriores, depende de como se lo vea), y la solución al subproblema original es la solución a uno de los subproblemas, más el paso adicional de ir desde una celda anterior a la que corresponde al subproblema actual.\n",
    "\n",
    "El ordenamiento de una lista no tiene subestructura óptima. En _merge sort_, luego de ordenar las 2 mitades de una lista, el ordenamiento final no proviene de elegir alguna de las mitadas o de simplemente concatenar las 2 medias listas ordenadas. La solución final requiere una etapa de combinación, una intercalación de elementos. Esa necesidad de una combinación (etapa de _combine_), es lo que previene a los algoritmos que se resuelven por D&C, ser resueltos por PD.\n",
    "\n",
    "Las diferencias entre problemas que tienen subestructura óptima son sutiles, y nos llevará tiempo reconocerlas. No sólo es necesario que un problema se pueda dividir en subproblemas, sino también es necesario que la solución de alguno de estos subproblemas sea parte de la solución del problema original, o visto al revés, que la solución del problema original contenga la solución a uno de sus subproblemas"
   ]
  },
  {
   "cell_type": "markdown",
   "metadata": {},
   "source": [
    "### Superposición de subproblemas"
   ]
  },
  {
   "cell_type": "markdown",
   "metadata": {},
   "source": [
    "Esta es la segunda característica que estos problemas presentan y ya vimos un ejemplo de esta superposición. \n",
    "\n",
    "Es esta característica la que permite el ahorro de cómputo de un algoritmo de PD, frente a uno bruto (_naive_) y la forma de evitar el recálculo de un mismo subproblema es mediante la utilización de una **estructura de datos** que almacene los resultados de los subproblemas para su posterior utilización. \n",
    "\n",
    "Esta estructura de datos contendrá las respuestas a todos los subproblemas, desde el caso base, hasta el problema original. Y el orden en el que un algoritmo de PD se propone llenar esta estructura de datos permite clasificarlo en 2 tipos de algoritmos de PD:  _top-down_ con memonización y _bottom-up_.\n",
    "\n",
    "Estos algoritmos avanzan por el árbol de subproblemas en sentidos opuestos, y si bien veremos esta clasificación dentro del marco de PD, ésta aplica a todos los algoritmos que puedan expresarse con una función recursiva [citation needed]"
   ]
  },
  {
   "cell_type": "markdown",
   "metadata": {},
   "source": [
    "### _top-down_"
   ]
  },
  {
   "cell_type": "markdown",
   "metadata": {},
   "source": [
    "Estos algoritmos empiezan proponiéndose la resolución del problema original y luego van determinando, recursivamente, que subproblemas tienen que resolverse para resolver el subproblema original hasta llegar a un caso base, a partir del cual desanudan el camino, resolviendo cada subproblema.\n",
    "\n",
    "Volviendo al ejemplo inicial, este algoritmo se propone, en primer lugar, resolver el problema de hallar el camino óptimo **A4-D1**, luego lo divide en subproblemas hasta proponerse la resolución del caso base: hallar el camino óptimo **A4-A4**.\n",
    "\n",
    "Este procedimiento es propio de cualquier algoritmo recursivo (recordar _merge-sort_), lo que diferencia a los algoritmos de PD es el uso de la memonización."
   ]
  },
  {
   "cell_type": "markdown",
   "metadata": {},
   "source": [
    "#### memonización"
   ]
  },
  {
   "cell_type": "markdown",
   "metadata": {},
   "source": [
    "Es el almacenamiento de valores óptimos y soluciones óptimas (es decir, resultados), de los subproblemas para posterior reutilización en la resolución de otro subproblema.\n",
    "\n",
    "En cierta forma, es la respuesta intuitiva a la superposición de problemas de PD. Si un subproblema puede ser utilizado para resolver posteriores subproblemas, entonces lo natural es resolverlo y luego almacenar la respuesta en un _cache_ para posterior reutilización, como figura abajo.\n",
    "\n",
    "Así, se inicializará una **estructura de datos** vacía con 1 elemento para cada subproblema. A cada subproblema resuelto su respuesta será almacenada en el lugar que le corresponda. Asimismo, cada vez que el algoritmo se proponga resolver un problema, intentará primero encontrar su respuesta en esta estructura de datos y así ahorrarse el recómputo.\n",
    "El primer elemento de la estructura de datos en llenarse corresponderá al caso base, y el último a la respuesta del problema original."
   ]
  },
  {
   "cell_type": "markdown",
   "metadata": {},
   "source": [
    "### _bottom-up_"
   ]
  },
  {
   "cell_type": "markdown",
   "metadata": {},
   "source": [
    "Estos algoritmos empiezan proponiéndose la resolución del subproblema más reducido, el trivial: el caso base. Luego reutiliza el resultado de este para resolver el siguiente subproblema y luego ambos resultados para resolver el siguiente, y así continua hasta llegar al problema orignal y resolverlo, al igual que con los anteriores subproblemas, reutilizando las respuestas anteriores.\n",
    "\n",
    "Volviendo al ejemplo inicial, este algoritmo se propone, en primer lugar, resolver el problema de hallar el camino óptimo **A4-A4**, luego avanza con los siguientes subproblemas hasta proponerse la resolución del problema original: hallar el camino óptimo **A4-D1**. \n",
    "\n",
    "Una vez que se la conoce, esta aproximación parece ser la más natural de las 2.\n",
    "\n",
    "Al empezar con el caso base y luego continuar con los subproblemas más pequeños hasta llegar al subproblema más grande (el original), estos algoritmos se aseguran tener todas las respuestas necesarias para resolver cada subproblema que se les presenta. \n",
    "Es decir, el primer subproblema que se proponen es el caso base y éste no requiere ninguna respueta anterior por su trivialidad. \n",
    "El segundo subproblema que se les presente, cualquiera sea éste, solo requiere la respuesta al caso base. El tercero, utilizará la respuesta de alguno de estos 2 subproblemas anteriores, y así continua. \n",
    "Esto podemos verlo en el ejemplo inicial."
   ]
  },
  {
   "cell_type": "markdown",
   "metadata": {},
   "source": [
    "#### advertencia\n",
    "\n",
    "Nótese que las aproximaciones _top-down_ y _bottom-up_ varían en el orden en el que se **proponen** resolver los subproblemas y no en el orden de resolución de subproblemas. En ese caso, ambos resuelven de la misma y única posible manera: desde el caso base, hasta el problema original.\n",
    "\n",
    "Las diferencias están en el sentido en el que avanzan por el árbol de subproblemas y en la forma de explorarlo: los _top-down_ lo hacen en profundidad y los _bottom-up_ lo hacen a lo ancho. Veremos más sobre esto de \"profundidad y ancho\" en siguientes clases."
   ]
  },
  {
   "cell_type": "markdown",
   "metadata": {},
   "source": [
    "<img src=\"2_tree.png\" alt=\"mm\" style=\"width: 2000px;\"/>"
   ]
  },
  {
   "cell_type": "markdown",
   "metadata": {},
   "source": [
    "## 3.3 _subset sum_"
   ]
  },
  {
   "cell_type": "markdown",
   "metadata": {},
   "source": [
    "Apliquemos todos estos abstractos en un ejemplo bien concreto."
   ]
  },
  {
   "cell_type": "markdown",
   "metadata": {},
   "source": [
    "Dada una lista de enteros `conjunto` y un entero `suma`, determinar si existe un subconjunto dentro de `conjunto` cuya sumatoria sea igual a `suma`.\n",
    "\n",
    "Veamos un ejemplo simple:"
   ]
  },
  {
   "cell_type": "code",
   "execution_count": 4,
   "metadata": {},
   "outputs": [],
   "source": [
    "conjunto = [3, 20, 1, 12, 5, 2]\n",
    "suma = 8"
   ]
  },
  {
   "cell_type": "markdown",
   "metadata": {},
   "source": [
    "Es fácil ver que el subconjunto `[3, 5]` suma `8` y por lo tanto es una solución del problema.\n",
    "\n",
    "Notar que este es un problema de decisión, debemos determinar si algo es posible o no (V o F). Entonces, lo que en optimización llamamos solución óptima, en este caso sería una solución correcta y en vez de un valor óptimo, tendríamos un valor que debe ser correcto. Por ejemplo, `[1, 5]` también es una solución, pero es incorrecta, ya que su valor `6`, es incorrecto.\n",
    "\n",
    "También notamos una característica que suele aparecer también en los problemas de optimización, la multiplicidad de soluciones correctas posibles. `[1, 5, 2]` es otra solución correcta, ya que suma el valor correcto, `8`. Nótese que puede haber varias soluciones correctas, pero el valor correcto es único. Ya vimos el fenómeno análogo en problemas de optimización, distintas soluciones óptimas, pero un único valor óptimo, ya que si existe un máximo(mínimo), necesariamente éste es único, sino no sería el máximo (mínimo)."
   ]
  },
  {
   "cell_type": "markdown",
   "metadata": {},
   "source": [
    "Ya que tenemos un ejemplo, vamos a empezar por un paso que no es estrictamente necesario, pero suele ser útil: pensaremos un algoritmo bruto que resuelva este problema.\n",
    "\n",
    "Y el algoritmo más simple para este problema, es el que realiza todas las sumas posibles entre los números del conjunto, hasta hallar la combinación de elementos (subconjunto), correcta:"
   ]
  },
  {
   "cell_type": "code",
   "execution_count": 5,
   "metadata": {
    "tags": []
   },
   "outputs": [],
   "source": [
    "def subset_sum_bruto(conjunto, suma):\n",
    "    for i in range(0, len(conjunto)+1):\n",
    "        for subconjunto in itertools.combinations(conjunto, i):\n",
    "            if sum(subconjunto) == suma:\n",
    "                print(\"Match. Subconjunto: \", subconjunto)\n",
    "                return\n",
    "    print(\"No hay match.\")\n",
    "    return"
   ]
  },
  {
   "cell_type": "markdown",
   "metadata": {},
   "source": [
    "No es necesario entender esta función. Mejor aún, ni la lean, ya que estoy rompiendo una de las reglas de la clase (no utilizar librerías mágicas de Python).\n",
    "\n",
    "Veamos si funciona:"
   ]
  },
  {
   "cell_type": "code",
   "execution_count": 6,
   "metadata": {},
   "outputs": [
    {
     "name": "stdout",
     "output_type": "stream",
     "text": [
      "Match. Subconjunto:  (3, 5)\n"
     ]
    }
   ],
   "source": [
    "subset_sum_bruto(conjunto, suma)"
   ]
  },
  {
   "cell_type": "markdown",
   "metadata": {},
   "source": [
    "Funciona, y si bien no encuentra todas las respuestas, nos devuelve el valor correcto (match), y la solución correcta (Subconjunto). Probá variando el valor de `suma` para ver distintos resultados."
   ]
  },
  {
   "cell_type": "markdown",
   "metadata": {},
   "source": [
    "Vemos que hace exactamente este algoritmo.\n",
    "\n",
    "Genera todos los subconjuntos posibles y los evalua uno por uno. Para nuestro ejemplo, ésta sería una descripción de los subconjuntos posibles:"
   ]
  },
  {
   "cell_type": "markdown",
   "metadata": {},
   "source": []
  },
  {
   "cell_type": "markdown",
   "metadata": {},
   "source": []
  },
  {
   "cell_type": "markdown",
   "metadata": {},
   "source": []
  },
  {
   "cell_type": "markdown",
   "metadata": {},
   "source": [
    "## 3.3 Pasos en la solución de un algoritmo de PD"
   ]
  },
  {
   "cell_type": "code",
   "execution_count": null,
   "metadata": {},
   "outputs": [],
   "source": [
    "Caracterizar la estructura de una solución óptima\n",
    "determinar que variables caracterizan a un estado, es decir, diferencian un subproblema de otro. Éstas aparecerán como argumentos de nuestra función\n",
    "\n",
    "\n",
    "Definir la solución óptima recursivamente\n",
    "Aquí debe ser evidente la superposición de SP\n",
    "\n",
    "\n",
    "Obtener el costo (o score) de la solución óptima\n",
    "\n",
    "\n",
    "Construir la solución óptima\n",
    "A veces esto puede hacerse intercalando código en la función original. Otras veces es más simple tomar la estructura de datos con los valores óptimos de los SPs resueltos y de ahí determinar la solución óptima.\n"
   ]
  },
  {
   "cell_type": "markdown",
   "metadata": {},
   "source": [
    "### esquematico"
   ]
  },
  {
   "cell_type": "markdown",
   "metadata": {},
   "source": [
    "\n",
    "Pienso variables que pueden caracterizar a un subproblema (estarán incluídas en los parámetros de la función q escribiré más adelante).\n",
    "\n",
    "\n",
    "Dibujo arbolito de subproblemas con esas variables.\n",
    "\n",
    "\n",
    "Pienso casos base.\n",
    "\n",
    "\n",
    "Escribo mi recursión.\n"
   ]
  },
  {
   "cell_type": "markdown",
   "metadata": {},
   "source": [
    "### pseudocódigo"
   ]
  },
  {
   "cell_type": "markdown",
   "metadata": {},
   "source": [
    "\n",
    "Escribo mi algoritmo recursivo.\n",
    "\n",
    "\n",
    "Top-down con memonización p/ hallar costo de solución óptima.\n",
    "\n",
    "\n",
    "Bottom-up p/ hallar costo de solución óptima.\n",
    "\n",
    "\n",
    "Hallar solución óptima, ya sea intercalando código en la solución original, o agregando una rutina que recupere la solución óptima.\n"
   ]
  },
  {
   "cell_type": "markdown",
   "metadata": {},
   "source": [
    "(\"Programación\" en este contexto se refiere\n",
    "a un método tabular, no a escribir código de computadora.) Como vimos en los Capítulos 2\n",
    "y 4, los algoritmos de divide y vencerás dividen el problema en inconexos.\n",
    "lemas, resuelva los subproblemas de forma recursiva y luego combine sus soluciones para resolver\n",
    "el problema original. Por el contrario, la programación dinámica se aplica cuando el subproblema\n",
    "los lemas se superponen, es decir, cuando los subproblemas comparten subproblemas. En este contexto,\n",
    "un algoritmo de divide y vencerás hace más trabajo del necesario, resolviendo repetidamente\n",
    "ing los subproblemas comunes. Un algoritmo de programación dinámica resuelve cada\n",
    "subproblema solo una vez y luego guarda su respuesta en una tabla, evitando así la\n",
    "trabajo de recalcular la respuesta cada vez que resuelve cada subproblema.\n",
    "Normalmente aplicamos programación dinámica a los problemas de optimización. Tal problema\n",
    "Los lemas pueden tener muchas soluciones posibles. Cada solución tiene un valor y deseamos\n",
    "encuentre una solución con el valor óptimo (mínimo o máximo). Llamamos a tal\n",
    "solución una solución óptima al problema, en contraposición a la solución óptima,\n",
    "ya que puede haber varias soluciones que logren el valor óptimo.\n",
    "Al desarrollar un algoritmo de programación dinámica, seguimos una secuencia de\n",
    "cuatro pasos:"
   ]
  },
  {
   "cell_type": "markdown",
   "metadata": {},
   "source": [
    "1. Caracterizar la estructura de una solución óptima.\n",
    "2. Defina de forma recursiva el valor de una solución óptima.\n",
    "3. Calcule el valor de una solución óptima, normalmente de forma ascendente.\n",
    "4. Construya una solución óptima a partir de información calculada."
   ]
  },
  {
   "cell_type": "markdown",
   "metadata": {},
   "source": [
    "Los pasos 1 a 3 forman la base de una solución de programación dinámica a un problema. Si nosotros\n",
    "solo necesitamos el valor de una solución óptima, y no la solución en sí, entonces\n",
    "puede omitir el paso 4. Cuando realizamos el paso 4, a veces mantenemos\n",
    "información durante el paso 3 para que podamos construir fácilmente una solución óptima."
   ]
  },
  {
   "cell_type": "markdown",
   "metadata": {},
   "source": []
  },
  {
   "cell_type": "markdown",
   "metadata": {},
   "source": [
    "Aunque acabamos de trabajar con dos ejemplos de la programación dinámica\n",
    "método, es posible que todavía se pregunte cuándo se aplica el método. De un en-\n",
    "perspectiva de ingeniería, ¿cuándo deberíamos buscar una solución de programación dinámica?\n",
    "a un problema? En esta sección, examinamos los dos ingredientes clave que debe tener un problema de optimización para que se aplique la programación dinámica: óptimo\n",
    "subestructura y subproblemas superpuestos. También revisamos y discutimos más a fondo\n",
    "cómo la memorización podría ayudarnos a aprovechar los subproblemas superpuestos\n",
    "propiedad en un enfoque recursivo de arriba hacia abajo."
   ]
  },
  {
   "cell_type": "markdown",
   "metadata": {},
   "source": [
    "### _subset sum_"
   ]
  },
  {
   "cell_type": "markdown",
   "metadata": {},
   "source": []
  },
  {
   "cell_type": "markdown",
   "metadata": {},
   "source": [
    "### Fórmula recursiva"
   ]
  },
  {
   "cell_type": "markdown",
   "metadata": {},
   "source": [
    "Subestructura óptima"
   ]
  },
  {
   "cell_type": "markdown",
   "metadata": {},
   "source": [
    "\n",
    "El primer paso para resolver un problema de optimización mediante programación dinámica es\n",
    "caracterizar la estructura de una solución óptima. Recuerde que presenta un problema\n",
    "subestructura óptima si una solución óptima al problema contiene dentro de ella\n",
    "Soluciones incorrectas a subproblemas. Siempre que un problema presente una subestructura óptima,\n",
    "tenemos una buena pista de que podría aplicarse la programación dinámica. (Como el Capítulo 16 dis-\n",
    "maldiciones, también podría significar que se aplica una estrategia codiciosa).\n",
    "programación, construimos una solución óptima al problema a partir de soluciones óptimas\n",
    "a los subproblemas. En consecuencia, debemos tener cuidado de asegurar que la gama de sub-\n",
    "Los problemas que consideramos incluyen los que se utilizan en una solución óptima.\n",
    "Descubrimos la subestructura óptima en los dos problemas que hemos examinado\n",
    "en este capítulo hasta ahora. En la Sección 15.1, observamos que la forma óptima de cortar\n",
    "levantar una varilla de longitud n (si es que hacemos algún corte) implica cortar de manera óptima\n",
    "hasta las dos piezas resultantes del primer corte. En la Sección 15.2, observamos que\n",
    "un paréntesis óptimo de Ai Ai C1 A j que divide el producto entre Ak\n",
    "y AkC1 contiene en su interior soluciones óptimas a los problemas de paréntesis\n",
    "Ai Ai C1 Ak y AkC1 AkC2 A j.\n",
    "Se encontrará siguiendo un patrón común en el descubrimiento de sub-\n",
    "estructura:\n",
    "\n",
    "1. Muestra que una solución al problema consiste en tomar una decisión, como\n",
    "elegir un corte inicial en una varilla o elegir un índice en el que dividir la matriz\n",
    "cadena. Hacer esta elección deja uno o más subproblemas por resolver.\n",
    "2. Supone que para un problema dado, se le da la opción que conduce a una\n",
    "solucion optima. Todavía no te preocupas por cómo determinar este\n",
    "elección. Simplemente asume que se te ha dado.\n",
    "3. Dada esta opción, usted determina qué subproblemas surgen y cuál es la mejor manera de\n",
    "caracterizar el espacio resultante de subproblemas.\n",
    "4. Demuestra que las soluciones a los subproblemas utilizadas dentro de una solución óptima\n",
    "al problema deben ser óptimos mediante el uso de una tecnología de \"cortar y pegar\"\n",
    "nique. Lo hace suponiendo que cada una de las soluciones del subproblema no es\n",
    "óptimo y luego derivar una contradicción. En particular, al \"cortar\" el\n",
    "solución no óptima para cada subproblema y \"pegando\" el óptimo, usted\n",
    "demostrar que se puede obtener una mejor solución al problema original, por lo que se contradice\n",
    "suponer que ya tenía una solución óptima. Si una solución óptima da lugar a más de un subproblema, normalmente son tan similares\n",
    "que puede modificar el argumento cortar y pegar para que uno se aplique a los demás\n",
    "con poco esfuerzo"
   ]
  },
  {
   "cell_type": "markdown",
   "metadata": {},
   "source": [
    "Para caracterizar el espacio de los subproblemas, una buena regla empírica dice tratar de\n",
    "Mantenga el espacio lo más simple posible y luego amplíelo según sea necesario. Por ejemplo,\n",
    "el espacio de subproblemas que consideramos para el problema del corte de varilla contenía\n",
    "los problemas de cortar de manera óptima una varilla de longitud i para cada tamaño i. Este sub-\n",
    "El espacio problemático funcionó bien, y no tuvimos necesidad de probar un espacio más general de\n",
    "subproblemas.\n",
    "Por el contrario, suponga que hemos intentado restringir nuestro espacio de subproblemas para\n",
    "multiplicación de cadenas de matrices a productos de matrices de la forma A1 A2 A j. Como antes,\n",
    "un paréntesis óptimo debe dividir este producto entre Ak y AkC1 para algunos\n",
    "1 k <j. A menos que podamos garantizar que k siempre es igual a j 1, encontraríamos\n",
    "que teníamos subproblemas de la forma A1 A2 Ak y A kC1 AkC2 A j, y que\n",
    "este último subproblema no es de la forma A1 A2 A j. Para este problema, necesitábamos\n",
    "permitir que nuestros subproblemas varíen en \"ambos extremos\", es decir, permitir que tanto i como j\n",
    "varían en el subproblema Ai Ai C1 A j.\n",
    "La subestructura óptima varía entre los dominios del problema de dos maneras:\n",
    "\n",
    "1. cuántos subproblemas utiliza una solución óptima al problema original, y\n",
    "2. cuántas opciones tenemos para determinar qué subproblema (s) usar en un\n",
    "solucion optima."
   ]
  },
  {
   "cell_type": "markdown",
   "metadata": {},
   "source": [
    "## Construyendo solución óptima"
   ]
  },
  {
   "cell_type": "code",
   "execution_count": null,
   "metadata": {},
   "outputs": [],
   "source": []
  },
  {
   "cell_type": "markdown",
   "metadata": {},
   "source": [
    "### _top-down_ con memonización"
   ]
  },
  {
   "cell_type": "markdown",
   "metadata": {},
   "source": [
    "Como vimos para el problema de corte por vara, hay un enfoque alternativo para Dy-\n",
    "La programación namica que a menudo ofrece la eficiencia de la dinámica de abajo.\n",
    "Enfoque de programación al tiempo que contiene una estrategia de arriba hacia abajo. La idea es\n",
    "Memoice el algoritmo natural, pero ineficiente, recursivo. Como en la parte de abajo hacia arriba.\n",
    "Proach, mantenemos una mesa con soluciones de subproblem, pero la estructura de control.\n",
    "Para llenar la tabla es más como el algoritmo recursivo.\n",
    "Un algoritmo recursivo memorizado mantiene una entrada en una tabla para la solución para\n",
    "Cada subproblema. Cada entrada de tabla se contiene inicialmente al valor especial para indicar que\n",
    "La entrada aún no se ha llenado. Cuando el subproblema se encuentra primero como el\n",
    "El algoritmo recursivo se desarrolla, su solución se calcula y luego se almacena en la tabla.\n",
    "Cada tiempo posterior que encontramos este subproblema, simplemente buscamos el\n",
    "Valor almacenado en la tabla y devolverlo."
   ]
  },
  {
   "cell_type": "markdown",
   "metadata": {},
   "source": [
    "## _bottom-up_"
   ]
  },
  {
   "cell_type": "markdown",
   "metadata": {},
   "source": [
    "En la práctica general, si todos los subproblemas deben resolverse al menos una vez, una parte inferior\n",
    "Algoritmo de programación dinámica generalmente supera a superar la parte superior correspondiente\n",
    "algoritmo memorizado por un factor constante, porque el algoritmo de abajo hacia arriba no tiene\n",
    "Por encima de la recursión y menos gastos generales para mantener la tabla. Además, por\n",
    "Algunos problemas podemos explotar el patrón regular de accesos de mesa en la dinámica.\n",
    "Algoritmo de programación para reducir los requisitos de tiempo o espacio aún más. Alterar-\n",
    "de forma nativa, si algunos subproblemas en el espacio del subproblema no deben resolverse en absoluto,\n",
    "La solución memoIcada tiene la ventaja de resolver solo aquellos subproblemas que\n",
    "son definitivamente requeridos."
   ]
  },
  {
   "cell_type": "markdown",
   "metadata": {},
   "source": []
  },
  {
   "cell_type": "markdown",
   "metadata": {},
   "source": []
  },
  {
   "cell_type": "markdown",
   "metadata": {},
   "source": []
  },
  {
   "cell_type": "markdown",
   "metadata": {},
   "source": [
    "------------"
   ]
  },
  {
   "cell_type": "markdown",
   "metadata": {},
   "source": [
    "## 3.2"
   ]
  },
  {
   "cell_type": "code",
   "execution_count": null,
   "metadata": {
    "tags": []
   },
   "outputs": [],
   "source": [
    "## Acá, búsqueda binaria!"
   ]
  },
  {
   "cell_type": "code",
   "execution_count": 2,
   "metadata": {
    "tags": []
   },
   "outputs": [],
   "source": [
    "def bb_1(lista, valor, offset):\n",
    "    if(len(lista) > 0):\n",
    "        medio = len(lista) // 2\n",
    "\n",
    "        if (valor < lista[medio]):\n",
    "            return bb_1(lista[0:medio], valor, offset)\n",
    "        elif (valor > lista[medio]):\n",
    "            return bb_1(lista[medio+1:], valor, medio + offset + 1)\n",
    "        else:\n",
    "            return medio + offset\n",
    "    else:\n",
    "        return -1"
   ]
  },
  {
   "cell_type": "code",
   "execution_count": 8,
   "metadata": {
    "tags": []
   },
   "outputs": [
    {
     "data": {
      "text/plain": [
       "(-1, -1)"
      ]
     },
     "execution_count": 8,
     "metadata": {},
     "output_type": "execute_result"
    }
   ],
   "source": [
    "# Mis inputs\n",
    "lista = list(range(0, 100, 2))\n",
    "valor = 41\n",
    "\n",
    "# Tupla de salidas\n",
    "(bb_1(lista, valor, 0), bb_2(lista, valor, 0, len(lista)))"
   ]
  },
  {
   "cell_type": "markdown",
   "metadata": {},
   "source": [
    "Ahora, si dividir la lista en 2 mitades nos permitió descartar el 50%, por qué no hacerlo en tercios? Eso nos permitiría descartar el 66% de la lista en cada intento! Cómo sería el pseudocódigo de esta función? Pausen el video y dense la oportunidad de resolverlo."
   ]
  },
  {
   "cell_type": "markdown",
   "metadata": {},
   "source": [
    "----------"
   ]
  },
  {
   "cell_type": "markdown",
   "metadata": {},
   "source": [
    "## 3.3"
   ]
  },
  {
   "cell_type": "markdown",
   "metadata": {},
   "source": [
    "Veamos la recurrencia de la búsqueda binaria\n",
    "\n",
    "$$ T(n) = \n",
    " \\begin{cases}\n",
    "\\Theta(1), \\qquad \\qquad \\quad  \\text{if} \\ n == 1\n",
    "\\newline\n",
    "T(\\frac{n}{2}) + \\Theta(1), \\qquad \\ \\text{if} \\ n > 1\n",
    "\\end{cases} $$\n",
    "\n",
    "Decimos que ésta fórmula es abierta, ya que la recurrencia depende de si misma. Como vimos, la sumatoria sigue y, en principio, no podemos acotarla."
   ]
  },
  {
   "cell_type": "markdown",
   "metadata": {},
   "source": [
    "------------------------------------------------------------------------------------------"
   ]
  },
  {
   "cell_type": "markdown",
   "metadata": {},
   "source": [
    "## 3.4"
   ]
  },
  {
   "cell_type": "markdown",
   "metadata": {},
   "source": [
    "\n",
    "$$ T(n) = aT(\\frac{n}{b}) + f(n) $$\n"
   ]
  },
  {
   "cell_type": "markdown",
   "metadata": {},
   "source": [
    "------------"
   ]
  },
  {
   "cell_type": "markdown",
   "metadata": {},
   "source": [
    "## 3.5 "
   ]
  },
  {
   "cell_type": "markdown",
   "metadata": {},
   "source": [
    "`búsqueda_desordenada_recursiva()`"
   ]
  },
  {
   "cell_type": "markdown",
   "metadata": {},
   "source": [
    "------------------------------------------------------------------------------------------"
   ]
  },
  {
   "cell_type": "markdown",
   "metadata": {},
   "source": [
    "<img src=\"merge_sort_3.png\" alt=\"merge_sort_3\" style=\"width: 600px;\"/>"
   ]
  },
  {
   "cell_type": "markdown",
   "metadata": {},
   "source": [
    "-------------------"
   ]
  },
  {
   "cell_type": "markdown",
   "metadata": {},
   "source": [
    "## 3.8 Conclusión"
   ]
  },
  {
   "cell_type": "markdown",
   "metadata": {},
   "source": [
    "* Pasos de PD: **recursiva**, **estructura de datos**\n",
    "* **top-down**, **memonización**,\n",
    "* **bottom-up**\n",
    "* advertencia respecto a leer de cualquier página de internet.\n",
    "* Recuerden leer el Cormen: **p(359-403)**\n",
    "* Responder cuestionario de campus."
   ]
  },
  {
   "cell_type": "markdown",
   "metadata": {},
   "source": [
    "--------------------"
   ]
  },
  {
   "cell_type": "markdown",
   "metadata": {},
   "source": [
    "### Contenidos a explicar durante la práctica"
   ]
  },
  {
   "cell_type": "markdown",
   "metadata": {},
   "source": [
    "1. coeficiente binomial\n",
    "2. conjunto de partes (_power set_)\n",
    "3. problema entero de la mochila en PD\n",
    "4. complejidad pseudopolinomial\n",
    "5. impacto (constante) de las llamadas recursivas de los _top down_ en su tiempo de ejecución y ventajas de estos frente a los _bottom up_ cuando no es necesario calcular todos los subproblemas\n",
    "6. optimizaciones espaciales sobre la estructura de datos"
   ]
  },
  {
   "cell_type": "markdown",
   "metadata": {},
   "source": [
    "## Extra"
   ]
  },
  {
   "cell_type": "markdown",
   "metadata": {},
   "source": [
    "Hasta 2017, Clang implementaba su std::sort con quicksort recursivo!:\n",
    "\n",
    "https://www.youtube.com/watch?v=Lcz0ZHewkHs"
   ]
  }
 ],
 "metadata": {
  "kernelspec": {
   "display_name": "Python 3",
   "language": "python",
   "name": "python3"
  },
  "language_info": {
   "codemirror_mode": {
    "name": "ipython",
    "version": 3
   },
   "file_extension": ".py",
   "mimetype": "text/x-python",
   "name": "python",
   "nbconvert_exporter": "python",
   "pygments_lexer": "ipython3",
   "version": "3.8.8"
  }
 },
 "nbformat": 4,
 "nbformat_minor": 4
}
