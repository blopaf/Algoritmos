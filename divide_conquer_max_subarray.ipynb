{
 "cells": [
  {
   "cell_type": "code",
   "execution_count": 7,
   "metadata": {},
   "outputs": [
    {
     "data": {
      "text/plain": [
       "get_indices (generic function with 2 methods)"
      ]
     },
     "execution_count": 7,
     "metadata": {},
     "output_type": "execute_result"
    }
   ],
   "source": [
    "function get_indices(vec, md, hi)\n",
    "    \n",
    "    izq_idx = 0\n",
    "    der_idx = 0\n",
    "    izq_top = -99\n",
    "    der_top = -99\n",
    "\n",
    "    for i in 1:md\n",
    "        \n",
    "        izq_suma = sum(vec[i:md])\n",
    "        if izq_suma > izq_top\n",
    "            izq_top = izq_suma\n",
    "            izq_idx = i\n",
    "        end\n",
    "\n",
    "        der_suma = sum(vec[md:hi-(i+1)])\n",
    "        if der_suma > der_top\n",
    "            der_top = der_suma\n",
    "            der_idx = i+md\n",
    "        end\n",
    "    end\n",
    "    \n",
    "    return izq_idx:der_idx\n",
    "end"
   ]
  },
  {
   "cell_type": "code",
   "execution_count": 8,
   "metadata": {},
   "outputs": [],
   "source": [
    "vec = [13 ; -3 ; -25 ; 20 ; -3 ; -16 ; -23 ; 18 ; 20 ; -7 ; 12 ; -5 ; -22 ; 15 ; -4 ; 7];"
   ]
  },
  {
   "cell_type": "code",
   "execution_count": 31,
   "metadata": {},
   "outputs": [
    {
     "data": {
      "text/plain": [
       "get_indices (generic function with 1 method)"
      ]
     },
     "execution_count": 31,
     "metadata": {},
     "output_type": "execute_result"
    }
   ],
   "source": [
    "hi = length(vec)\n",
    "md = convert(Int, floor(hi / 2))\n",
    "\n"
   ]
  },
  {
   "cell_type": "code",
   "execution_count": 6,
   "metadata": {},
   "outputs": [
    {
     "data": {
      "text/plain": [
       "5-element Array{Int64,1}:\n",
       " 18\n",
       " 20\n",
       " -7\n",
       " 12\n",
       " -5"
      ]
     },
     "execution_count": 6,
     "metadata": {},
     "output_type": "execute_result"
    }
   ],
   "source": [
    "maximum(sum(vec[get_indices(vec, md, hi)]), )"
   ]
  },
  {
   "cell_type": "code",
   "execution_count": 24,
   "metadata": {},
   "outputs": [
    {
     "data": {
      "text/plain": [
       "16-element Array{Int64,1}:\n",
       "  13\n",
       "  -3\n",
       " -25\n",
       "  20\n",
       "  -3\n",
       " -16\n",
       " -23\n",
       "  18\n",
       "  20\n",
       "  -7\n",
       "  12\n",
       "  -5\n",
       " -22\n",
       "  15\n",
       "  -4\n",
       "   7"
      ]
     },
     "execution_count": 24,
     "metadata": {},
     "output_type": "execute_result"
    }
   ],
   "source": [
    "vec"
   ]
  },
  {
   "cell_type": "code",
   "execution_count": 11,
   "metadata": {},
   "outputs": [
    {
     "data": {
      "text/plain": [
       "16"
      ]
     },
     "execution_count": 11,
     "metadata": {},
     "output_type": "execute_result"
    }
   ],
   "source": [
    "maximum([sum(vec[lo:md]) ; sum(vec[md+1:hi])])"
   ]
  },
  {
   "cell_type": "code",
   "execution_count": 13,
   "metadata": {},
   "outputs": [
    {
     "data": {
      "text/plain": [
       "-19"
      ]
     },
     "execution_count": 13,
     "metadata": {},
     "output_type": "execute_result"
    }
   ],
   "source": [
    "sum(vec[lo:md])"
   ]
  }
 ],
 "metadata": {
  "kernelspec": {
   "display_name": "Julia 1.1.0",
   "language": "julia",
   "name": "julia-1.1"
  },
  "language_info": {
   "file_extension": ".jl",
   "mimetype": "application/julia",
   "name": "julia",
   "version": "1.1.0"
  }
 },
 "nbformat": 4,
 "nbformat_minor": 2
}
