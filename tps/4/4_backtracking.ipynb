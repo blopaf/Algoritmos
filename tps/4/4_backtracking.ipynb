{
 "cells": [
  {
   "cell_type": "markdown",
   "metadata": {},
   "source": [
    "## 1"
   ]
  },
  {
   "cell_type": "code",
   "execution_count": 3,
   "metadata": {},
   "outputs": [
    {
     "data": {
      "text/plain": [
       "es_nuevo (generic function with 1 method)"
      ]
     },
     "execution_count": 3,
     "metadata": {},
     "output_type": "execute_result"
    }
   ],
   "source": [
    "function is_valid(e)\n",
    "    if e[2] == e[3]\n",
    "        # Si el zorro y la viscacha están del mismo lado, entonces será valido\n",
    "        # sólo si el gaucho también está de ese lado\n",
    "        return e[1] == e[3]\n",
    "    elseif e[3] == e[4]\n",
    "        # Si la viscacha y la soja están del mismo lado, entonces será valido\n",
    "        # solo si el gaucho también está de ese lado\n",
    "        return e[1] == e[3]\n",
    "    else\n",
    "        return true\n",
    "    end\n",
    "end\n",
    "        \n",
    "function sig(e, index)\n",
    "    e2 = copy(e)\n",
    "    if e2[1]\n",
    "        e2[1] = false\n",
    "        e2[index] = false\n",
    "    elseif !e2[1]\n",
    "        e2[1] = true\n",
    "        e2[index] = true\n",
    "    end\n",
    "    return e2\n",
    "end\n",
    "            \n",
    "function es_nuevo(e2, M)\n",
    "    for e in M\n",
    "        if e == e2\n",
    "            return false\n",
    "        end\n",
    "    end\n",
    "    return true\n",
    "end"
   ]
  },
  {
   "cell_type": "code",
   "execution_count": 4,
   "metadata": {},
   "outputs": [
    {
     "data": {
      "text/plain": [
       "s1a (generic function with 1 method)"
      ]
     },
     "execution_count": 4,
     "metadata": {},
     "output_type": "execute_result"
    }
   ],
   "source": [
    "function s1a(e, M)\n",
    "    fin = false\n",
    "    if e == [true; true; true; true]\n",
    "        fin = true\n",
    "        return fin, M\n",
    "    end\n",
    "    for i in 1:4\n",
    "        e2 = sig(e, i)\n",
    "        valido = is_valid(e2)\n",
    "        nuevo = es_nuevo(e2, M)\n",
    "        \n",
    "        if valido && nuevo\n",
    "            push!(M, e2)\n",
    "            fin, M = s1a(e2, M)\n",
    "            if fin\n",
    "                break\n",
    "            end\n",
    "        end\n",
    "    end\n",
    "    return fin, M\n",
    "end"
   ]
  },
  {
   "cell_type": "code",
   "execution_count": 5,
   "metadata": {},
   "outputs": [
    {
     "data": {
      "text/plain": [
       "0-element Array{Array{Bool,1},1}"
      ]
     },
     "execution_count": 5,
     "metadata": {},
     "output_type": "execute_result"
    }
   ],
   "source": [
    "# Gaucho, zorro, viscacha, soja\n",
    "e = [false; false; false; false]\n",
    "m = Array{Array{Bool, 1}, 1}()"
   ]
  },
  {
   "cell_type": "code",
   "execution_count": 6,
   "metadata": {},
   "outputs": [
    {
     "data": {
      "text/plain": [
       "(true, Array{Bool,1}[[true, false, true, false], [false, false, true, false], [true, true, true, false], [false, true, false, false], [true, true, false, true], [false, true, false, true], [true, true, true, true]])"
      ]
     },
     "execution_count": 6,
     "metadata": {},
     "output_type": "execute_result"
    }
   ],
   "source": [
    "s1a(e, m)"
   ]
  },
  {
   "cell_type": "code",
   "execution_count": 7,
   "metadata": {},
   "outputs": [
    {
     "data": {
      "text/plain": [
       "7-element Array{Array{Bool,1},1}:\n",
       " [true, false, true, false] \n",
       " [false, false, true, false]\n",
       " [true, true, true, false]  \n",
       " [false, true, false, false]\n",
       " [true, true, false, true]  \n",
       " [false, true, false, true] \n",
       " [true, true, true, true]   "
      ]
     },
     "execution_count": 7,
     "metadata": {},
     "output_type": "execute_result"
    }
   ],
   "source": [
    "m\n",
    "# Gaucho, zorro, viscacha, soja"
   ]
  },
  {
   "cell_type": "code",
   "execution_count": 15,
   "metadata": {},
   "outputs": [
    {
     "data": {
      "text/plain": [
       "28-element Array{Bool,1}:\n",
       "  true\n",
       " false\n",
       "  true\n",
       " false\n",
       " false\n",
       " false\n",
       "  true\n",
       " false\n",
       "  true\n",
       "  true\n",
       "  true\n",
       " false\n",
       " false\n",
       "     ⋮\n",
       "  true\n",
       "  true\n",
       " false\n",
       "  true\n",
       " false\n",
       "  true\n",
       " false\n",
       "  true\n",
       "  true\n",
       "  true\n",
       "  true\n",
       "  true"
      ]
     },
     "execution_count": 15,
     "metadata": {},
     "output_type": "execute_result"
    }
   ],
   "source": [
    "[ each for each in Iterators.flatten(m) ]"
   ]
  },
  {
   "cell_type": "code",
   "execution_count": 14,
   "metadata": {},
   "outputs": [
    {
     "data": {
      "text/plain": [
       "7×4 Array{Bool,2}:\n",
       "  true  false  false   true\n",
       " false   true  false  false\n",
       "  true   true   true   true\n",
       " false   true   true   true\n",
       " false  false  false   true\n",
       " false  false   true   true\n",
       "  true   true  false   true"
      ]
     },
     "execution_count": 14,
     "metadata": {},
     "output_type": "execute_result"
    }
   ],
   "source": [
    "reshape([ each for each in Iterators.flatten(m) ], (7, 4))"
   ]
  }
 ],
 "metadata": {
  "kernelspec": {
   "display_name": "Julia 1.1.0",
   "language": "julia",
   "name": "julia-1.1"
  },
  "language_info": {
   "file_extension": ".jl",
   "mimetype": "application/julia",
   "name": "julia",
   "version": "1.1.0"
  }
 },
 "nbformat": 4,
 "nbformat_minor": 2
}
