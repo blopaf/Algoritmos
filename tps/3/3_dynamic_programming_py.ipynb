{
 "cells": [
  {
   "cell_type": "markdown",
   "metadata": {},
   "source": [
    "# 3"
   ]
  },
  {
   "cell_type": "code",
   "execution_count": 75,
   "metadata": {},
   "outputs": [],
   "source": [
    "def top_down(M, C, n, m):\n",
    "    if (n < 0) or (m < 0):\n",
    "        return 999\n",
    "    elif( m == 0 and n == 0):    \n",
    "        return C[0][0]\n",
    "    elif (M[n][m] != -1):\n",
    "        return M[n][m]    \n",
    "    else:\n",
    "        M[n][m] = C[n][m] + min(top_down(M, C, n-1, m), top_down(M, C, n, m-1))\n",
    "        return M[n][m]\n",
    "\n",
    "def s3a(C, n, m):\n",
    "    M = [[-1 for x in range(len(C))] for x in range(len(C[0]))] \n",
    "    M[0][0] = 0\n",
    "    \n",
    "    return top_down(M, C, n, m)"
   ]
  },
  {
   "cell_type": "code",
   "execution_count": 105,
   "metadata": {},
   "outputs": [],
   "source": [
    "# bottom up\n",
    "def s3b(C, n, m):\n",
    "    M = [[999 for x in range(len(C)+1)] for x in range(len(C[0])+1)] \n",
    "    M[0][1] = 0\n",
    "    M[1][0] = 0\n",
    "    \n",
    "    for i in range(1, n+2):\n",
    "        for j in range(1, m+2):\n",
    "            M[i][j] = C[i-1][j-1] + min(M[i-1][j], M[i][j-1])\n",
    "    \n",
    "#     return M\n",
    "    return M[n][m]"
   ]
  },
  {
   "cell_type": "code",
   "execution_count": 99,
   "metadata": {},
   "outputs": [],
   "source": [
    "C = [[1, 2, 3], \n",
    "        [4, 8, 2], \n",
    "        [1, 5, 3]] "
   ]
  },
  {
   "cell_type": "code",
   "execution_count": 114,
   "metadata": {},
   "outputs": [
    {
     "data": {
      "text/plain": [
       "11"
      ]
     },
     "execution_count": 114,
     "metadata": {},
     "output_type": "execute_result"
    }
   ],
   "source": [
    "s3a(C, 2, 2)"
   ]
  },
  {
   "cell_type": "code",
   "execution_count": 106,
   "metadata": {},
   "outputs": [
    {
     "data": {
      "text/plain": [
       "11"
      ]
     },
     "execution_count": 106,
     "metadata": {},
     "output_type": "execute_result"
    }
   ],
   "source": [
    "s3b(C, 2, 2)"
   ]
  },
  {
   "cell_type": "code",
   "execution_count": null,
   "metadata": {},
   "outputs": [],
   "source": []
  }
 ],
 "metadata": {
  "kernelspec": {
   "display_name": "Python 3",
   "language": "python",
   "name": "python3"
  },
  "language_info": {
   "codemirror_mode": {
    "name": "ipython",
    "version": 3
   },
   "file_extension": ".py",
   "mimetype": "text/x-python",
   "name": "python",
   "nbconvert_exporter": "python",
   "pygments_lexer": "ipython3",
   "version": "3.6.7"
  }
 },
 "nbformat": 4,
 "nbformat_minor": 2
}
