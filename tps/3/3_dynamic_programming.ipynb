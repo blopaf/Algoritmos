{
 "cells": [
  {
   "cell_type": "markdown",
   "metadata": {},
   "source": [
    "## 5"
   ]
  },
  {
   "cell_type": "code",
   "execution_count": null,
   "metadata": {},
   "outputs": [],
   "source": [
    "function demas(c, p, i)\n",
    "    ah_por_u = (c[i+1] - (c[i] + 1.5)) * p[i+1]\n",
    "#     println(\"i:  \", i, \" -- \",  \"ah_por_u:  \", ah_por_u)\n",
    "    return (ah_por_u + 250) > 0\n",
    "end\n",
    "\n",
    "function rec(c, p, n, i, T, j)\n",
    "    println(\"i: \", i, \" - T:  \", T, \"  j: \", j)\n",
    "    if i == n\n",
    "        if j == 0\n",
    "            return 250 + c[i] * p[i]\n",
    "        else\n",
    "            return 0\n",
    "        end\n",
    "    end\n",
    "\n",
    "    stock = demas(c, p, i)\n",
    "    if j == 0\n",
    "        if stock\n",
    "#             println(\"stock + j == 0:  \", i)\n",
    "            T = 250 + c[i] * p[i] + (c[i] + 1.5) * p[i+1]\n",
    "            j = p[i+1]\n",
    "        else\n",
    "#             println(\"j == 0:  \", i)\n",
    "            T = 250 + c[i] * p[i]\n",
    "            j = 0\n",
    "        end\n",
    "    else\n",
    "        if stock\n",
    "#             println(\"stock + sobra :  \", i)\n",
    "            T = 250 + (c[i] + 1.5) * p[i+1]\n",
    "            j = p[i+1]\n",
    "        else\n",
    "#             println(\"sobra:  \", i)\n",
    "            j = 0\n",
    "        end\n",
    "    end\n",
    "    \n",
    "    i += 1\n",
    "    return T + rec(c, p, n, i, T, j)\n",
    "end\n",
    "            \n",
    "function s5a(c, p, n)\n",
    "    j = 0\n",
    "    T = 0\n",
    "    i = 1\n",
    "    \n",
    "    T = rec(c, p, n, i, T, j)\n",
    "    return T\n",
    "end"
   ]
  },
  {
   "cell_type": "code",
   "execution_count": null,
   "metadata": {},
   "outputs": [],
   "source": [
    "p = [200 ; 300 ; 300]\n",
    "c = [10 ; 10 ; 12]\n",
    "\n",
    "s5a(c, p, 3)"
   ]
  },
  {
   "cell_type": "markdown",
   "metadata": {},
   "source": [
    "## 6"
   ]
  },
  {
   "cell_type": "code",
   "execution_count": null,
   "metadata": {},
   "outputs": [],
   "source": [
    "function s6_rec(v, M)\n",
    "    t = typemax(Int64)\n",
    "    \n",
    "    if v < 1\n",
    "        return 0\n",
    "    else\n",
    "        for m in M\n",
    "            if m <= v\n",
    "                c = s6_rec(v-m, M)\n",
    "                t = min(t, c+1)        \n",
    "            end\n",
    "        end\n",
    "        return t\n",
    "    end\n",
    "end"
   ]
  },
  {
   "cell_type": "code",
   "execution_count": null,
   "metadata": {},
   "outputs": [],
   "source": [
    "function s6_bottom_up(v, todos_los_billetes)\n",
    "    L = fill(typemax(Int64), v+1)\n",
    "    L[1] = 0\n",
    "    for subproblema in 2:v+1\n",
    "        println(\"subproblema: \", subproblema - 1)\n",
    "        for billete in todos_los_billetes\n",
    "            resto = subproblema - billete # corrijo 1 indexing\n",
    "            if resto > 0\n",
    "                println(\"L[subproblema]:  \", L[subproblema] - 1, \n",
    "                    \" - L[resto] + 1:  \", L[resto], \" - resto: \", resto - 1)\n",
    "                L[subproblema] = min(L[subproblema], L[resto] + 1)\n",
    "            end\n",
    "        end\n",
    "        println(\"-----\")\n",
    "    end\n",
    "    \n",
    "    return hcat(collect(0:v), L)\n",
    "#     return L[end]\n",
    "end"
   ]
  },
  {
   "cell_type": "code",
   "execution_count": null,
   "metadata": {},
   "outputs": [],
   "source": [
    "M = [ 50 ; 20 ; 10 ; 8; 5 ; 2 ; 1]\n",
    "s6_rec(16, M)"
   ]
  },
  {
   "cell_type": "code",
   "execution_count": null,
   "metadata": {},
   "outputs": [],
   "source": [
    "rtdo = s6_bottom_up(16, M)"
   ]
  },
  {
   "cell_type": "markdown",
   "metadata": {},
   "source": [
    "## 7"
   ]
  },
  {
   "cell_type": "code",
   "execution_count": null,
   "metadata": {},
   "outputs": [],
   "source": [
    "function s7_rec(str1, str2, m , n)\n",
    "    if m == 1\n",
    "         return n \n",
    "    end\n",
    "    if n == 1\n",
    "        return m\n",
    "    end\n",
    "  \n",
    "    if str1[m] == str2[n]\n",
    "        return s7_rec(str1, str2 , m-1, n-1) \n",
    "    end\n",
    "    \n",
    "    return 1 + min(s7_rec(str1, str2, m, n-1), s7_rec(str1, str2, m-1, n),\n",
    "        s7_rec(str1, str2, m-1, n-1))\n",
    "end"
   ]
  },
  {
   "cell_type": "code",
   "execution_count": null,
   "metadata": {},
   "outputs": [],
   "source": [
    "function s7_mem(str1, str2, m, n, c, W)\n",
    "    if m == 1\n",
    "         return n \n",
    "    end\n",
    "    if n == 1\n",
    "        return m\n",
    "    end\n",
    "  \n",
    "    if W[m, n] != -1\n",
    "        return W[m, n]\n",
    "    end\n",
    "    if str1[m] == str2[n]\n",
    "        return s7_rec(str1, str2 , m-1, n-1) \n",
    "    end\n",
    "    \n",
    "    c += 1 + min(s7_rec(str1, str2, m, n-1), s7_rec(str1, str2, m-1, n),\n",
    "        s7_rec(str1, str2, m-1, n-1))\n",
    "    return c\n",
    "end\n",
    "\n",
    "function s7_top_down(str1, str2, m, n)\n",
    "    W = fill(-1, m, n)\n",
    "    c = 0\n",
    "    s7_mem(str1, str2, m, n, c, W)\n",
    "    return c\n",
    "end"
   ]
  },
  {
   "cell_type": "code",
   "execution_count": null,
   "metadata": {},
   "outputs": [],
   "source": [
    "function s7_bottom_up(str1, str2, m, n)\n",
    "    W = Array{Int64, 2}(undef, m+1, n+1)\n",
    "    W[:, 1] = collect(1:size(W)[1])\n",
    "    W[1, :] = collect(1:size(W)[2])\n",
    "    W[1, 1] = 0\n",
    "    \n",
    "    for i = 2:m+1\n",
    "        for j = 1+1:n+1\n",
    "            W[i, j] = min(W[i-1, j-1], W[i-1, j], W[i, j-1])\n",
    "            if str1[i-1] != str2[j-1]\n",
    "                W[i, j] += 1\n",
    "            end\n",
    "        end\n",
    "    end\n",
    "    \n",
    "    return W[m, n]\n",
    "end"
   ]
  },
  {
   "cell_type": "code",
   "execution_count": null,
   "metadata": {},
   "outputs": [],
   "source": [
    "str1 = \"gato\"\n",
    "str2 = \"pato\"\n",
    "\n",
    "s7_rec(str1, str2, length(str1), length(str2))"
   ]
  },
  {
   "cell_type": "code",
   "execution_count": null,
   "metadata": {},
   "outputs": [],
   "source": [
    "str1 = \"lar\"\n",
    "str2 = \"lar\"\n",
    "\n",
    "s7_top_down(str1, str2, length(str1), length(str2))"
   ]
  },
  {
   "cell_type": "code",
   "execution_count": null,
   "metadata": {},
   "outputs": [],
   "source": [
    "str1 = \"gato\"\n",
    "str2 = \"pato\"\n",
    "\n",
    "s7_bottom_up(str1, str2, length(str1), length(str2))"
   ]
  },
  {
   "cell_type": "code",
   "execution_count": null,
   "metadata": {},
   "outputs": [],
   "source": []
  }
 ],
 "metadata": {
  "kernelspec": {
   "display_name": "Julia 1.1.0",
   "language": "julia",
   "name": "julia-1.1"
  },
  "language_info": {
   "file_extension": ".jl",
   "mimetype": "application/julia",
   "name": "julia",
   "version": "1.1.0"
  }
 },
 "nbformat": 4,
 "nbformat_minor": 2
}
