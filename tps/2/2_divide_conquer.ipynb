{
 "cells": [
  {
   "cell_type": "code",
   "execution_count": 240,
   "metadata": {},
   "outputs": [],
   "source": [
    "def s8a_merge(v, idx_1, idx_2):\n",
    "    vout = []\n",
    "    cnt = 0\n",
    "    \n",
    "    for i in range(0, len(idx_1)):\n",
    "        for j in range(len(idx_2)-1, -1, -1):\n",
    "            if v[idx_1[i]] > v[idx_2[j]]:\n",
    "                cnt += (len(idx_1) - i) * (j+1)\n",
    "                vout.extend(idx_2[0:j+1])\n",
    "                del idx_2[0:j+1]\n",
    "                break\n",
    "                \n",
    "        vout.append(idx_1[i])\n",
    "    vout.extend(idx_2)\n",
    "    \n",
    "    return cnt, vout\n",
    "\n",
    "def s8a(v, p, q):\n",
    "    if (q-p) == 1:\n",
    "        if v[p] < v[q]:\n",
    "            return 0, [p, q]\n",
    "        else:\n",
    "            return 1, [q, p]\n",
    "        \n",
    "    \n",
    "    r = int((q-p)/2)\n",
    "\n",
    "    cnt_1, idx_1 = s8a(v, p, p+r)\n",
    "    cnt_2, idx_2 = s8a(v, p+r+1, q)\n",
    "    cnt_3, idx = s8a_merge(v, idx_1, idx_2) \n",
    "    \n",
    "    return (cnt_1+cnt_2+cnt_3), idx\n",
    "\n",
    "def s8a_wrapper(v):\n",
    "    return s8a(v, 0, len(v)-1)"
   ]
  },
  {
   "cell_type": "code",
   "execution_count": 244,
   "metadata": {},
   "outputs": [],
   "source": [
    "import random"
   ]
  },
  {
   "cell_type": "code",
   "execution_count": 248,
   "metadata": {},
   "outputs": [],
   "source": [
    "b = [ random.randrange(1, 100, 1) for i in range(4) ]\n",
    "s, id = s8a_wrapper(b)"
   ]
  },
  {
   "cell_type": "code",
   "execution_count": 249,
   "metadata": {},
   "outputs": [
    {
     "data": {
      "text/plain": [
       "[39, 59, 14, 23]"
      ]
     },
     "execution_count": 249,
     "metadata": {},
     "output_type": "execute_result"
    }
   ],
   "source": [
    "b"
   ]
  },
  {
   "cell_type": "code",
   "execution_count": 250,
   "metadata": {},
   "outputs": [
    {
     "data": {
      "text/plain": [
       "4"
      ]
     },
     "execution_count": 250,
     "metadata": {},
     "output_type": "execute_result"
    }
   ],
   "source": [
    "s"
   ]
  },
  {
   "cell_type": "code",
   "execution_count": 251,
   "metadata": {},
   "outputs": [
    {
     "data": {
      "text/plain": [
       "[2, 3, 0, 1]"
      ]
     },
     "execution_count": 251,
     "metadata": {},
     "output_type": "execute_result"
    }
   ],
   "source": [
    "id"
   ]
  },
  {
   "cell_type": "code",
   "execution_count": null,
   "metadata": {},
   "outputs": [],
   "source": []
  }
 ],
 "metadata": {
  "kernelspec": {
   "display_name": "Python 3",
   "language": "python",
   "name": "python3"
  },
  "language_info": {
   "codemirror_mode": {
    "name": "ipython",
    "version": 3
   },
   "file_extension": ".py",
   "mimetype": "text/x-python",
   "name": "python",
   "nbconvert_exporter": "python",
   "pygments_lexer": "ipython3",
   "version": "3.6.7"
  }
 },
 "nbformat": 4,
 "nbformat_minor": 4
}
